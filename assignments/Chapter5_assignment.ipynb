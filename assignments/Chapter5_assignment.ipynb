{
 "cells": [
  {
   "cell_type": "markdown",
   "metadata": {},
   "source": [
    "# Chapter 5 提出課題\n",
    "### リッジ回帰をscikit-learn準拠でコーディング"
   ]
  },
  {
   "cell_type": "code",
   "execution_count": 1,
   "metadata": {},
   "outputs": [],
   "source": [
    "from sklearn.datasets import load_boston\n",
    "import numpy as np\n",
    "import matplotlib.pyplot as plt\n",
    "%matplotlib inline"
   ]
  },
  {
   "cell_type": "markdown",
   "metadata": {},
   "source": [
    "### データをダウンロード"
   ]
  },
  {
   "cell_type": "code",
   "execution_count": 2,
   "metadata": {},
   "outputs": [
    {
     "name": "stdout",
     "output_type": "stream",
     "text": [
      "(506, 13)\n",
      "(506,)\n"
     ]
    }
   ],
   "source": [
    "boston=load_boston()\n",
    "X=boston.data\n",
    "T=boston.target\n",
    "print(X.shape)\n",
    "print(T.shape)"
   ]
  },
  {
   "cell_type": "markdown",
   "metadata": {},
   "source": [
    "### データの前処理"
   ]
  },
  {
   "cell_type": "code",
   "execution_count": 3,
   "metadata": {},
   "outputs": [],
   "source": [
    "X=X-X.mean()\n",
    "T=T-T.mean()"
   ]
  },
  {
   "cell_type": "code",
   "execution_count": 4,
   "metadata": {},
   "outputs": [],
   "source": [
    "np.random.seed(0) # random　の挙動を固定\n",
    "\n",
    "p = np.random.permutation(len(X)) # random　な　index のリスト\n",
    "X = X[p]\n",
    "T = T[p]"
   ]
  },
  {
   "cell_type": "markdown",
   "metadata": {},
   "source": [
    "### 訓練データとテストデータに分ける"
   ]
  },
  {
   "cell_type": "code",
   "execution_count": 5,
   "metadata": {},
   "outputs": [],
   "source": [
    "X_train = X[:len(X)//2, :]\n",
    "T_train = T[:len(T)//2]\n",
    "X_test = X[len(X)//2:, :]\n",
    "T_test = T[len(T)//2:]"
   ]
  },
  {
   "cell_type": "code",
   "execution_count": 6,
   "metadata": {},
   "outputs": [
    {
     "name": "stdout",
     "output_type": "stream",
     "text": [
      "(253, 13)\n",
      "(253,)\n",
      "(253, 13)\n",
      "(253,)\n"
     ]
    }
   ],
   "source": [
    "print(X_train.shape)\n",
    "print(T_train.shape)\n",
    "print(X_test.shape)\n",
    "print(T_test.shape)"
   ]
  },
  {
   "cell_type": "markdown",
   "metadata": {},
   "source": [
    "### scikit-learn 準拠のコーディング"
   ]
  },
  {
   "cell_type": "code",
   "execution_count": 7,
   "metadata": {},
   "outputs": [],
   "source": [
    "from sklearn.base import BaseEstimator,RegressorMixin\n",
    "from sklearn.utils.validation import check_X_y,check_is_fitted,check_array"
   ]
  },
  {
   "cell_type": "markdown",
   "metadata": {},
   "source": [
    "### リッジ回帰のクラス"
   ]
  },
  {
   "cell_type": "code",
   "execution_count": 8,
   "metadata": {},
   "outputs": [],
   "source": [
    "class MyLinearRegression(BaseEstimator,RegressorMixin):\n",
    "    def __init__(self,lam=0,a=None,b=None):\n",
    "        self.a=a\n",
    "        self.b=b\n",
    "        self.lam=lam\n",
    "        \n",
    "    def fit(self,X,y):\n",
    "        X, y = check_X_y(X, y, y_numeric=True)\n",
    "        \n",
    "        if self.lam != 0:\n",
    "            pass\n",
    "        else:\n",
    "            pass\n",
    "\n",
    "        one=np.ones(X.shape[0]).reshape(-1,1)\n",
    "        X_=np.concatenate((one,X),axis=1)\n",
    "        Lam=self.lam*np.eye(X_.shape[1])\n",
    "        A=Lam+np.dot(X_.T,X_)\n",
    "        X_daggar=np.dot(np.linalg.inv(A),X_.T)\n",
    "        w=np.dot(X_daggar,y)\n",
    "        \n",
    "        self.a_=w[1:]\n",
    "        self.b_=w[0]\n",
    "        \n",
    "        return self\n",
    "    \n",
    "    def predict(self,X):\n",
    "        X=check_array(X)\n",
    "        y=np.dot(X,self.a_)+self.b_\n",
    "        \n",
    "        check_is_fitted(self, \"a_\", \"b_\") # 学習済みかチェックする(推奨)\n",
    "        X = check_array(X)\n",
    "        return y"
   ]
  },
  {
   "cell_type": "markdown",
   "metadata": {},
   "source": [
    "### 決定係数とハイパーパラメータを求める"
   ]
  },
  {
   "cell_type": "code",
   "execution_count": 9,
   "metadata": {},
   "outputs": [
    {
     "name": "stdout",
     "output_type": "stream",
     "text": [
      "決定係数:  0.6959671211744596\n",
      "lam:  9.357622968840175e-14\n"
     ]
    }
   ],
   "source": [
    "from sklearn.model_selection import GridSearchCV\n",
    "\n",
    "np.random.seed(0)\n",
    "\n",
    "# Grid search\n",
    "parameters = {'lam':np.exp([i for i in range(-30,1)])}\n",
    "reg = GridSearchCV(MyLinearRegression(),parameters,cv=5)\n",
    "reg.fit(X_train,T_train)\n",
    "best = reg.best_estimator_\n",
    "\n",
    "# 決定係数\n",
    "print(\"決定係数: \", best.score(X_train, T_train)) # BaseEstimatorを継承しているため使える\n",
    "# lambda\n",
    "print(\"lam: \", best.lam)"
   ]
  }
 ],
 "metadata": {
  "kernelspec": {
   "display_name": "Python 3",
   "language": "python",
   "name": "python3"
  },
  "language_info": {
   "codemirror_mode": {
    "name": "ipython",
    "version": 3
   },
   "file_extension": ".py",
   "mimetype": "text/x-python",
   "name": "python",
   "nbconvert_exporter": "python",
   "pygments_lexer": "ipython3",
   "version": "3.7.1"
  }
 },
 "nbformat": 4,
 "nbformat_minor": 2
}
